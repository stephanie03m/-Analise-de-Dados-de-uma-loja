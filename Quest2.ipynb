{
 "cells": [
  {
   "cell_type": "code",
   "execution_count": 2,
   "metadata": {},
   "outputs": [],
   "source": [
    "#2. Qual o produto mais comprado online?"
   ]
  },
  {
   "cell_type": "code",
   "execution_count": null,
   "metadata": {},
   "outputs": [],
   "source": [
    "# Soma total de cada produto, para saber qual foi  mais vendido"
   ]
  },
  {
   "cell_type": "code",
   "execution_count": 53,
   "metadata": {},
   "outputs": [],
   "source": [
    "import pandas as pd"
   ]
  },
  {
   "cell_type": "code",
   "execution_count": 3,
   "metadata": {},
   "outputs": [],
   "source": [
    "OnlineOrders = pd.read_json('online_orders.json', lines= True)"
   ]
  },
  {
   "cell_type": "code",
   "execution_count": 7,
   "metadata": {},
   "outputs": [
    {
     "data": {
      "text/html": [
       "<div>\n",
       "<style scoped>\n",
       "    .dataframe tbody tr th:only-of-type {\n",
       "        vertical-align: middle;\n",
       "    }\n",
       "\n",
       "    .dataframe tbody tr th {\n",
       "        vertical-align: top;\n",
       "    }\n",
       "\n",
       "    .dataframe thead th {\n",
       "        text-align: right;\n",
       "    }\n",
       "</style>\n",
       "<table border=\"1\" class=\"dataframe\">\n",
       "  <thead>\n",
       "    <tr style=\"text-align: right;\">\n",
       "      <th></th>\n",
       "      <th>date</th>\n",
       "      <th>visitor_id</th>\n",
       "      <th>deviceType</th>\n",
       "      <th>order_id</th>\n",
       "      <th>on_product_id</th>\n",
       "      <th>quantity</th>\n",
       "      <th>price</th>\n",
       "      <th>customer_id</th>\n",
       "    </tr>\n",
       "  </thead>\n",
       "  <tbody>\n",
       "    <tr>\n",
       "      <td>0</td>\n",
       "      <td>2018-08-01</td>\n",
       "      <td>3.663324e+24</td>\n",
       "      <td>desktop</td>\n",
       "      <td>363063373630306</td>\n",
       "      <td>323762666337343</td>\n",
       "      <td>1</td>\n",
       "      <td>839</td>\n",
       "      <td>NaN</td>\n",
       "    </tr>\n",
       "    <tr>\n",
       "      <td>1</td>\n",
       "      <td>2018-08-01</td>\n",
       "      <td>3.430317e+24</td>\n",
       "      <td>mobile</td>\n",
       "      <td>356664366366353</td>\n",
       "      <td>313562333039323</td>\n",
       "      <td>1</td>\n",
       "      <td>629</td>\n",
       "      <td>6.339334e+19</td>\n",
       "    </tr>\n",
       "    <tr>\n",
       "      <td>2</td>\n",
       "      <td>2018-08-01</td>\n",
       "      <td>3.261343e+24</td>\n",
       "      <td>desktop</td>\n",
       "      <td>313432656633333</td>\n",
       "      <td>383863346531623</td>\n",
       "      <td>1</td>\n",
       "      <td>219</td>\n",
       "      <td>3.765363e+19</td>\n",
       "    </tr>\n",
       "    <tr>\n",
       "      <td>3</td>\n",
       "      <td>2018-08-01</td>\n",
       "      <td>6.437387e+24</td>\n",
       "      <td>mobile</td>\n",
       "      <td>633236633438383</td>\n",
       "      <td>666136386663626</td>\n",
       "      <td>1</td>\n",
       "      <td>239</td>\n",
       "      <td>6.533383e+19</td>\n",
       "    </tr>\n",
       "    <tr>\n",
       "      <td>4</td>\n",
       "      <td>2018-08-01</td>\n",
       "      <td>6.264657e+24</td>\n",
       "      <td>desktop</td>\n",
       "      <td>623030326130383</td>\n",
       "      <td>626533383465323</td>\n",
       "      <td>1</td>\n",
       "      <td>69</td>\n",
       "      <td>NaN</td>\n",
       "    </tr>\n",
       "  </tbody>\n",
       "</table>\n",
       "</div>"
      ],
      "text/plain": [
       "        date    visitor_id deviceType         order_id    on_product_id  \\\n",
       "0 2018-08-01  3.663324e+24    desktop  363063373630306  323762666337343   \n",
       "1 2018-08-01  3.430317e+24     mobile  356664366366353  313562333039323   \n",
       "2 2018-08-01  3.261343e+24    desktop  313432656633333  383863346531623   \n",
       "3 2018-08-01  6.437387e+24     mobile  633236633438383  666136386663626   \n",
       "4 2018-08-01  6.264657e+24    desktop  623030326130383  626533383465323   \n",
       "\n",
       "   quantity  price   customer_id  \n",
       "0         1    839           NaN  \n",
       "1         1    629  6.339334e+19  \n",
       "2         1    219  3.765363e+19  \n",
       "3         1    239  6.533383e+19  \n",
       "4         1     69           NaN  "
      ]
     },
     "execution_count": 7,
     "metadata": {},
     "output_type": "execute_result"
    }
   ],
   "source": [
    "OnlineOrders.head()"
   ]
  },
  {
   "cell_type": "code",
   "execution_count": 41,
   "metadata": {},
   "outputs": [
    {
     "data": {
      "text/plain": [
       "12267"
      ]
     },
     "execution_count": 41,
     "metadata": {},
     "output_type": "execute_result"
    }
   ],
   "source": [
    "somatotalprodutos = OnlineOrders['quantity'].sum()\n",
    "somatotalprodutos"
   ]
  },
  {
   "cell_type": "code",
   "execution_count": 43,
   "metadata": {},
   "outputs": [
    {
     "data": {
      "text/plain": [
       "on_product_id\n",
       "626664333563363    74\n",
       "376531636530353    51\n",
       "656136316465643    50\n",
       "396464373131666    47\n",
       "393665363031353    45\n",
       "                   ..\n",
       "613634393437643     1\n",
       "326338396162326     1\n",
       "326337663936393     1\n",
       "366636333962336     1\n",
       "353538623161613     1\n",
       "Name: quantity, Length: 2184, dtype: int64"
      ]
     },
     "execution_count": 43,
     "metadata": {},
     "output_type": "execute_result"
    }
   ],
   "source": [
    "somaprodutos = OnlineOrders.groupby('on_product_id')['quantity'].sum()\n",
    "produtomaisvendido = somaprodutos.sort_values(ascending=False)\n",
    "produtomaisvendido"
   ]
  },
  {
   "cell_type": "code",
   "execution_count": 39,
   "metadata": {},
   "outputs": [
    {
     "data": {
      "text/plain": [
       "on_product_id\n",
       "626664333563363    74\n",
       "Name: quantity, dtype: int64"
      ]
     },
     "execution_count": 39,
     "metadata": {},
     "output_type": "execute_result"
    }
   ],
   "source": [
    "#Produto mai vendido\n",
    "produtomaisvendido.head(1)"
   ]
  }
 ],
 "metadata": {
  "kernelspec": {
   "display_name": "Python 3",
   "language": "python",
   "name": "python3"
  },
  "language_info": {
   "codemirror_mode": {
    "name": "ipython",
    "version": 3
   },
   "file_extension": ".py",
   "mimetype": "text/x-python",
   "name": "python",
   "nbconvert_exporter": "python",
   "pygments_lexer": "ipython3",
   "version": "3.7.4"
  }
 },
 "nbformat": 4,
 "nbformat_minor": 2
}
